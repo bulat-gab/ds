{
 "cells": [
  {
   "cell_type": "markdown",
   "metadata": {},
   "source": [
    "### In this task you will need to predict student performance based on different characteristics with K-NN\n"
   ]
  },
  {
   "cell_type": "code",
   "execution_count": 1,
   "metadata": {},
   "outputs": [
    {
     "name": "stdout",
     "output_type": "stream",
     "text": [
      "Populating the interactive namespace from numpy and matplotlib\n"
     ]
    },
    {
     "data": {
      "text/plain": [
       "'%.6f'"
      ]
     },
     "execution_count": 1,
     "metadata": {},
     "output_type": "execute_result"
    }
   ],
   "source": [
    "%pylab inline\n",
    "%precision 6"
   ]
  },
  {
   "cell_type": "code",
   "execution_count": 2,
   "metadata": {},
   "outputs": [],
   "source": [
    "import sklearn\n",
    "import sklearn as skl\n",
    "import pandas as pd\n",
    "from pdb import set_trace as bp\n",
    "import numpy as np"
   ]
  },
  {
   "cell_type": "code",
   "execution_count": 3,
   "metadata": {},
   "outputs": [],
   "source": [
    "np.set_printoptions(linewidth=140,edgeitems=10)\n",
    "rcParams['figure.figsize'] = (8.0, 5.0)"
   ]
  },
  {
   "cell_type": "code",
   "execution_count": 5,
   "metadata": {},
   "outputs": [],
   "source": [
    "# you need to download module common from github.com/Apogentus/common and add it to your PythonPath system variable\n",
    "from common.classes.Struct import Struct\n",
    "from common.visualize.colors import COLORS\n",
    "from common.visualize.distributions import cross_distributions, cross_distributions_classification, cross_distributions_regression"
   ]
  },
  {
   "cell_type": "markdown",
   "metadata": {},
   "source": [
    "#### Load and prepare data"
   ]
  },
  {
   "cell_type": "code",
   "execution_count": 6,
   "metadata": {},
   "outputs": [],
   "source": [
    "Z=pd.read_csv('data.csv')"
   ]
  },
  {
   "cell_type": "code",
   "execution_count": 7,
   "metadata": {
    "scrolled": false
   },
   "outputs": [
    {
     "data": {
      "text/html": [
       "<div>\n",
       "<style>\n",
       "    .dataframe thead tr:only-child th {\n",
       "        text-align: right;\n",
       "    }\n",
       "\n",
       "    .dataframe thead th {\n",
       "        text-align: left;\n",
       "    }\n",
       "\n",
       "    .dataframe tbody tr th {\n",
       "        vertical-align: top;\n",
       "    }\n",
       "</style>\n",
       "<table border=\"1\" class=\"dataframe\">\n",
       "  <thead>\n",
       "    <tr style=\"text-align: right;\">\n",
       "      <th></th>\n",
       "      <th>Gender</th>\n",
       "      <th>Nationality</th>\n",
       "      <th>PlaceofBirth</th>\n",
       "      <th>StageID</th>\n",
       "      <th>GradeID</th>\n",
       "      <th>SectionID</th>\n",
       "      <th>Topic</th>\n",
       "      <th>Semester</th>\n",
       "      <th>Relation</th>\n",
       "      <th>RaisedHands</th>\n",
       "      <th>VisitedResources</th>\n",
       "      <th>AnnouncementsView</th>\n",
       "      <th>Discussion</th>\n",
       "      <th>ParentAnsweringSurvey</th>\n",
       "      <th>ParentSchoolSatisfaction</th>\n",
       "      <th>StudentAbsenceDays</th>\n",
       "      <th>Class</th>\n",
       "    </tr>\n",
       "  </thead>\n",
       "  <tbody>\n",
       "    <tr>\n",
       "      <th>0</th>\n",
       "      <td>M</td>\n",
       "      <td>KW</td>\n",
       "      <td>KuwaIT</td>\n",
       "      <td>lowerlevel</td>\n",
       "      <td>G-04</td>\n",
       "      <td>A</td>\n",
       "      <td>IT</td>\n",
       "      <td>F</td>\n",
       "      <td>Father</td>\n",
       "      <td>15</td>\n",
       "      <td>16</td>\n",
       "      <td>2</td>\n",
       "      <td>20</td>\n",
       "      <td>Yes</td>\n",
       "      <td>Good</td>\n",
       "      <td>Under-7</td>\n",
       "      <td>M</td>\n",
       "    </tr>\n",
       "    <tr>\n",
       "      <th>1</th>\n",
       "      <td>M</td>\n",
       "      <td>KW</td>\n",
       "      <td>KuwaIT</td>\n",
       "      <td>lowerlevel</td>\n",
       "      <td>G-04</td>\n",
       "      <td>A</td>\n",
       "      <td>IT</td>\n",
       "      <td>F</td>\n",
       "      <td>Father</td>\n",
       "      <td>20</td>\n",
       "      <td>20</td>\n",
       "      <td>3</td>\n",
       "      <td>25</td>\n",
       "      <td>Yes</td>\n",
       "      <td>Good</td>\n",
       "      <td>Under-7</td>\n",
       "      <td>M</td>\n",
       "    </tr>\n",
       "    <tr>\n",
       "      <th>2</th>\n",
       "      <td>M</td>\n",
       "      <td>KW</td>\n",
       "      <td>KuwaIT</td>\n",
       "      <td>lowerlevel</td>\n",
       "      <td>G-04</td>\n",
       "      <td>A</td>\n",
       "      <td>IT</td>\n",
       "      <td>F</td>\n",
       "      <td>Father</td>\n",
       "      <td>10</td>\n",
       "      <td>7</td>\n",
       "      <td>0</td>\n",
       "      <td>30</td>\n",
       "      <td>No</td>\n",
       "      <td>Bad</td>\n",
       "      <td>Above-7</td>\n",
       "      <td>L</td>\n",
       "    </tr>\n",
       "    <tr>\n",
       "      <th>3</th>\n",
       "      <td>M</td>\n",
       "      <td>KW</td>\n",
       "      <td>KuwaIT</td>\n",
       "      <td>lowerlevel</td>\n",
       "      <td>G-04</td>\n",
       "      <td>A</td>\n",
       "      <td>IT</td>\n",
       "      <td>F</td>\n",
       "      <td>Father</td>\n",
       "      <td>30</td>\n",
       "      <td>25</td>\n",
       "      <td>5</td>\n",
       "      <td>35</td>\n",
       "      <td>No</td>\n",
       "      <td>Bad</td>\n",
       "      <td>Above-7</td>\n",
       "      <td>L</td>\n",
       "    </tr>\n",
       "    <tr>\n",
       "      <th>4</th>\n",
       "      <td>M</td>\n",
       "      <td>KW</td>\n",
       "      <td>KuwaIT</td>\n",
       "      <td>lowerlevel</td>\n",
       "      <td>G-04</td>\n",
       "      <td>A</td>\n",
       "      <td>IT</td>\n",
       "      <td>F</td>\n",
       "      <td>Father</td>\n",
       "      <td>40</td>\n",
       "      <td>50</td>\n",
       "      <td>12</td>\n",
       "      <td>50</td>\n",
       "      <td>No</td>\n",
       "      <td>Bad</td>\n",
       "      <td>Above-7</td>\n",
       "      <td>M</td>\n",
       "    </tr>\n",
       "  </tbody>\n",
       "</table>\n",
       "</div>"
      ],
      "text/plain": [
       "  Gender Nationality PlaceofBirth     StageID GradeID SectionID Topic  \\\n",
       "0      M          KW       KuwaIT  lowerlevel    G-04         A    IT   \n",
       "1      M          KW       KuwaIT  lowerlevel    G-04         A    IT   \n",
       "2      M          KW       KuwaIT  lowerlevel    G-04         A    IT   \n",
       "3      M          KW       KuwaIT  lowerlevel    G-04         A    IT   \n",
       "4      M          KW       KuwaIT  lowerlevel    G-04         A    IT   \n",
       "\n",
       "  Semester Relation  RaisedHands  VisitedResources  AnnouncementsView  \\\n",
       "0        F   Father           15                16                  2   \n",
       "1        F   Father           20                20                  3   \n",
       "2        F   Father           10                 7                  0   \n",
       "3        F   Father           30                25                  5   \n",
       "4        F   Father           40                50                 12   \n",
       "\n",
       "   Discussion ParentAnsweringSurvey ParentSchoolSatisfaction  \\\n",
       "0          20                   Yes                     Good   \n",
       "1          25                   Yes                     Good   \n",
       "2          30                    No                      Bad   \n",
       "3          35                    No                      Bad   \n",
       "4          50                    No                      Bad   \n",
       "\n",
       "  StudentAbsenceDays Class  \n",
       "0            Under-7     M  \n",
       "1            Under-7     M  \n",
       "2            Above-7     L  \n",
       "3            Above-7     L  \n",
       "4            Above-7     M  "
      ]
     },
     "execution_count": 7,
     "metadata": {},
     "output_type": "execute_result"
    }
   ],
   "source": [
    "Z.head()"
   ]
  },
  {
   "cell_type": "markdown",
   "metadata": {},
   "source": [
    "#### Make structure with feature groups"
   ]
  },
  {
   "cell_type": "code",
   "execution_count": 8,
   "metadata": {},
   "outputs": [],
   "source": [
    "F=Struct()\n",
    "F.numeric = 'VisitedResources AnnouncementsView Discussion'.split()\n",
    "F.categorical = 'Gender Nationality PlaceofBirth StageID GradeID SectionID Topic Semester \\\n",
    "                        Relation ParentAnsweringSurvey ParentSchoolSatisfaction StudentAbsenceDays'.split()"
   ]
  },
  {
   "cell_type": "markdown",
   "metadata": {},
   "source": [
    "#### Random shuffling"
   ]
  },
  {
   "cell_type": "code",
   "execution_count": 9,
   "metadata": {},
   "outputs": [],
   "source": [
    "random.seed(0)\n",
    "inds = random.permutation(arange(len(Z)))\n",
    "\n",
    "Z=Z.loc[inds]\n",
    "\n",
    "Z.index = arange(len(Z))"
   ]
  },
  {
   "cell_type": "code",
   "execution_count": 10,
   "metadata": {},
   "outputs": [
    {
     "data": {
      "text/plain": [
       "Int64Index([  0,   1,   2,   3,   4,   5,   6,   7,   8,   9,\n",
       "            ...\n",
       "            470, 471, 472, 473, 474, 475, 476, 477, 478, 479],\n",
       "           dtype='int64', length=480)"
      ]
     },
     "execution_count": 10,
     "metadata": {},
     "output_type": "execute_result"
    }
   ],
   "source": [
    "Z.index"
   ]
  },
  {
   "cell_type": "code",
   "execution_count": 11,
   "metadata": {},
   "outputs": [
    {
     "data": {
      "text/plain": [
       "480"
      ]
     },
     "execution_count": 11,
     "metadata": {},
     "output_type": "execute_result"
    }
   ],
   "source": [
    "len(Z)"
   ]
  },
  {
   "cell_type": "code",
   "execution_count": 12,
   "metadata": {},
   "outputs": [
    {
     "data": {
      "text/plain": [
       "array(['H', 'L', 'M'], dtype=object)"
      ]
     },
     "execution_count": 12,
     "metadata": {},
     "output_type": "execute_result"
    }
   ],
   "source": [
    "classes = unique(Z['Class'])\n",
    "classes"
   ]
  },
  {
   "cell_type": "code",
   "execution_count": 13,
   "metadata": {},
   "outputs": [
    {
     "data": {
      "text/plain": [
       "M    211\n",
       "H    142\n",
       "L    127\n",
       "Name: Class, dtype: int64"
      ]
     },
     "execution_count": 13,
     "metadata": {},
     "output_type": "execute_result"
    }
   ],
   "source": [
    "Z['Class'].value_counts()"
   ]
  },
  {
   "cell_type": "code",
   "execution_count": 14,
   "metadata": {},
   "outputs": [],
   "source": [
    "Z[F.numeric] = Z[F.numeric].astype(float)"
   ]
  },
  {
   "cell_type": "markdown",
   "metadata": {},
   "source": [
    "#### Form array X to consist of only NUMERIC variables and array Y of outputs."
   ]
  },
  {
   "cell_type": "code",
   "execution_count": 15,
   "metadata": {},
   "outputs": [],
   "source": [
    "X = Z[F.numeric].values\n",
    "Y = Z['Class'].values"
   ]
  },
  {
   "cell_type": "code",
   "execution_count": 16,
   "metadata": {},
   "outputs": [
    {
     "data": {
      "text/plain": [
       "dtype('float64')"
      ]
     },
     "execution_count": 16,
     "metadata": {},
     "output_type": "execute_result"
    }
   ],
   "source": [
    "X.dtype"
   ]
  },
  {
   "cell_type": "code",
   "execution_count": 17,
   "metadata": {
    "scrolled": true
   },
   "outputs": [
    {
     "data": {
      "text/plain": [
       "(480, 3)"
      ]
     },
     "execution_count": 17,
     "metadata": {},
     "output_type": "execute_result"
    }
   ],
   "source": [
    "X.shape"
   ]
  },
  {
   "cell_type": "markdown",
   "metadata": {},
   "source": [
    "#### Using *cross_distributions_classification* plot all pairwise feature distrubutions of features and Y. "
   ]
  },
  {
   "cell_type": "code",
   "execution_count": 18,
   "metadata": {},
   "outputs": [
    {
     "data": {
      "text/plain": [
       "[['VisitedResources', 'AnnouncementsView', 'Discussion']]"
      ]
     },
     "execution_count": 18,
     "metadata": {},
     "output_type": "execute_result"
    }
   ],
   "source": [
    "[F.numeric]"
   ]
  },
  {
   "cell_type": "code",
   "execution_count": 19,
   "metadata": {},
   "outputs": [
    {
     "data": {
      "image/png": "[encoded data removed]",
      "text/plain": [
       "<matplotlib.figure.Figure at 0x7f6a359ca860>"
      ]
     },
     "metadata": {},
     "output_type": "display_data"
    }
   ],
   "source": [
    "cross_distributions_classification(X, Y, var_names=F.numeric)"
   ]
  },
  {
   "cell_type": "markdown",
   "metadata": {},
   "source": [
    "#### What relatonships between features and Y can you see?"
   ]
  },
  {
   "cell_type": "markdown",
   "metadata": {},
   "source": [
    "- Those who visit resources more often receive higher grades"
   ]
  },
  {
   "cell_type": "markdown",
   "metadata": {},
   "source": [
    "#### Project the *numeric* features onto 2 principal components and plot. Show Y values with color. \n",
    "* Don't forget to normalize data passed to PCA with sklearn.preprocessing.StandardScaler"
   ]
  },
  {
   "cell_type": "code",
   "execution_count": 20,
   "metadata": {},
   "outputs": [],
   "source": [
    "from sklearn.preprocessing import StandardScaler\n",
    "from sklearn.decomposition import PCA"
   ]
  },
  {
   "cell_type": "code",
   "execution_count": 21,
   "metadata": {
    "scrolled": true
   },
   "outputs": [],
   "source": [
    "scaler = StandardScaler()\n",
    "scaler.fit(X, Y)\n",
    "norm_X = scaler.transform(X)"
   ]
  },
  {
   "cell_type": "code",
   "execution_count": 22,
   "metadata": {},
   "outputs": [],
   "source": [
    "pca = PCA(n_components=2)"
   ]
  },
  {
   "cell_type": "code",
   "execution_count": 23,
   "metadata": {},
   "outputs": [],
   "source": [
    "pca.fit(X)\n",
    "Z_train = pca.transform(X) \n",
    "color_list = {'H' : 'r', 'M' : 'b', 'L' : 'g'}"
   ]
  },
  {
   "cell_type": "code",
   "execution_count": 24,
   "metadata": {},
   "outputs": [
    {
     "data": {
      "text/plain": [
       "<matplotlib.collections.PathCollection at 0x7f6a31534d68>"
      ]
     },
     "execution_count": 24,
     "metadata": {},
     "output_type": "execute_result"
    },
    {
     "data": {
      "image/png": "[encoded data removed]",
      "text/plain": [
       "<matplotlib.figure.Figure at 0x7f6a35670b00>"
      ]
     },
     "metadata": {},
     "output_type": "display_data"
    }
   ],
   "source": [
    "scatter(Z_train[:,0], Z_train[:,1], c=[color_list[y] for y in Y])"
   ]
  },
  {
   "cell_type": "markdown",
   "metadata": {},
   "source": [
    "#### Can classes be easily separated in this 2D space?"
   ]
  },
  {
   "cell_type": "markdown",
   "metadata": {},
   "source": [
    "No, red and blue point's distribution is to too complex to perform separation"
   ]
  },
  {
   "cell_type": "markdown",
   "metadata": {},
   "source": [
    "#### Plot variance explained by each of the components"
   ]
  },
  {
   "cell_type": "code",
   "execution_count": 25,
   "metadata": {},
   "outputs": [
    {
     "data": {
      "text/plain": [
       "[<matplotlib.lines.Line2D at 0x7f6a304bd278>]"
      ]
     },
     "execution_count": 25,
     "metadata": {},
     "output_type": "execute_result"
    },
    {
     "data": {
      "image/png": "[encoded data removed]",
      "text/plain": [
       "<matplotlib.figure.Figure at 0x7f6a356bc128>"
      ]
     },
     "metadata": {},
     "output_type": "display_data"
    }
   ],
   "source": [
    "plot(pca.explained_variance_ratio_)"
   ]
  },
  {
   "cell_type": "markdown",
   "metadata": {},
   "source": [
    "#### Get best cross-validation score by varying n_neighbors=[1,3,5,7,11, 16, 25, 51]\n",
    "* Use sklearn.model_selection.GridSearchCV to find the classifier clf with best parameters \n",
    "* Print clf.best\\_score_, clf.best\\_params_"
   ]
  },
  {
   "cell_type": "code",
   "execution_count": 26,
   "metadata": {},
   "outputs": [],
   "source": [
    "from sklearn.model_selection import GridSearchCV\n",
    "from sklearn.neighbors import KNeighborsClassifier"
   ]
  },
  {
   "cell_type": "code",
   "execution_count": 27,
   "metadata": {},
   "outputs": [
    {
     "name": "stdout",
     "output_type": "stream",
     "text": [
      "Best score:  0.6145833333333334 Best params:  {'n_neighbors': 16}\n",
      "CPU times: user 148 ms, sys: 0 ns, total: 148 ms\n",
      "Wall time: 147 ms\n"
     ]
    }
   ],
   "source": [
    "%%time\n",
    "params = {'n_neighbors' : [1,3,5,7,11, 16, 25, 51] }\n",
    "\n",
    "clf = GridSearchCV(KNeighborsClassifier(), params)\n",
    "clf.fit(norm_X, Y)\n",
    "print('Best score: ', clf.best_score_, \n",
    "      'Best params: ', clf.best_params_)"
   ]
  },
  {
   "cell_type": "markdown",
   "metadata": {},
   "source": [
    "#### Calculate standard deviations of numeric features. Do they have equal spread?"
   ]
  },
  {
   "cell_type": "code",
   "execution_count": 28,
   "metadata": {},
   "outputs": [
    {
     "name": "stdout",
     "output_type": "stream",
     "text": [
      "33.04553039358054\n",
      "26.58350958340214\n",
      "27.608930720974246\n"
     ]
    }
   ],
   "source": [
    "for i in range(3):\n",
    "    print(np.std(X[:,i]))"
   ]
  },
  {
   "cell_type": "markdown",
   "metadata": {},
   "source": [
    "No, not equal."
   ]
  },
  {
   "cell_type": "markdown",
   "metadata": {},
   "source": [
    "#### Normalize numeric features with sklearn.preprocessing.StandardScaler"
   ]
  },
  {
   "cell_type": "markdown",
   "metadata": {},
   "source": [
    "#### For NORMALIZED numeic features get best cross-validation score by varying n_neighbors=[1,3,5,7,11, 16, 25, 51]\n",
    "* Use sklearn.model_selection.GridSearchCV to find the classifier clf with best parameters \n",
    "* Print clf.best\\_score_ clf.best\\_params_"
   ]
  },
  {
   "cell_type": "markdown",
   "metadata": {},
   "source": [
    "#### Try optimizing weights in ['uniform','distance']"
   ]
  },
  {
   "cell_type": "markdown",
   "metadata": {},
   "source": [
    "#### Try additionally optimize parameter p in [1,2,3,4,5,7]"
   ]
  },
  {
   "cell_type": "markdown",
   "metadata": {},
   "source": [
    "#### Report overall best model cross-validation score and best model parameters for numeric features"
   ]
  },
  {
   "cell_type": "code",
   "execution_count": 30,
   "metadata": {},
   "outputs": [
    {
     "name": "stdout",
     "output_type": "stream",
     "text": [
      "Best score:  0.6416666666666667 Best params:  {'n_neighbors': 51, 'p': 2, 'weights': 'distance'}\n"
     ]
    }
   ],
   "source": [
    "params = {'n_neighbors' : [1,3,5,7,11, 16, 25, 51],\n",
    "          'weights' : ['uniform','distance'],\n",
    "          'p' : [1,2,3,4,5,7]}\n",
    "\n",
    "clf = GridSearchCV(KNeighborsClassifier(), params)\n",
    "clf.fit(norm_X,Y)\n",
    "print('Best score: ', clf.best_score_, \n",
    "      'Best params: ', clf.best_params_)"
   ]
  },
  {
   "cell_type": "markdown",
   "metadata": {},
   "source": [
    "# Adding categorical features"
   ]
  },
  {
   "cell_type": "markdown",
   "metadata": {},
   "source": [
    "#### Calculate *sklearn.metrics.normalized_mutual_info_score* to find 3 categorical variables mostly connected with output. "
   ]
  },
  {
   "cell_type": "code",
   "execution_count": 31,
   "metadata": {},
   "outputs": [],
   "source": [
    "s = pd.Series()\n",
    "\n",
    "for c in F.categorical:\n",
    "    s.set_value(c, \n",
    "                sklearn.metrics.normalized_mutual_info_score(Z[c], Y))"
   ]
  },
  {
   "cell_type": "markdown",
   "metadata": {},
   "source": [
    "#### What are those features? Explain."
   ]
  },
  {
   "cell_type": "code",
   "execution_count": 32,
   "metadata": {},
   "outputs": [
    {
     "data": {
      "text/plain": [
       "StudentAbsenceDays       0.324328\n",
       "ParentAnsweringSurvey    0.121549\n",
       "Relation                 0.102530\n",
       "dtype: float64"
      ]
     },
     "execution_count": 32,
     "metadata": {},
     "output_type": "execute_result"
    }
   ],
   "source": [
    "s.sort_values(ascending=False).head(3)"
   ]
  },
  {
   "cell_type": "markdown",
   "metadata": {},
   "source": [
    "#### Add one-hot-encoded categorical features to Z"
   ]
  },
  {
   "cell_type": "code",
   "execution_count": 33,
   "metadata": {},
   "outputs": [],
   "source": [
    "from common.feature_transformations import get_one_hot_encoding"
   ]
  },
  {
   "cell_type": "code",
   "execution_count": 34,
   "metadata": {},
   "outputs": [
    {
     "name": "stdout",
     "output_type": "stream",
     "text": [
      "Making one-hot-encoding of Gender\n",
      "Making one-hot-encoding of Nationality\n",
      "Making one-hot-encoding of PlaceofBirth\n",
      "Making one-hot-encoding of StageID\n",
      "Making one-hot-encoding of GradeID\n",
      "Making one-hot-encoding of SectionID\n",
      "Making one-hot-encoding of Topic\n",
      "Making one-hot-encoding of Semester\n",
      "Making one-hot-encoding of Relation\n",
      "Making one-hot-encoding of ParentAnsweringSurvey\n",
      "Making one-hot-encoding of ParentSchoolSatisfaction\n",
      "Making one-hot-encoding of StudentAbsenceDays\n"
     ]
    }
   ],
   "source": [
    "F.categorical_one_hot = []\n",
    "for col in F.categorical:\n",
    "    print('Making one-hot-encoding of %s'%col)\n",
    "    feature_one_hot = get_one_hot_encoding(Z[col])\n",
    "    Z = pd.concat([Z, feature_one_hot],axis=1)\n",
    "    F.categorical_one_hot += list(feature_one_hot.columns)"
   ]
  },
  {
   "cell_type": "code",
   "execution_count": 35,
   "metadata": {},
   "outputs": [
    {
     "data": {
      "text/html": [
       "<div>\n",
       "<style>\n",
       "    .dataframe thead tr:only-child th {\n",
       "        text-align: right;\n",
       "    }\n",
       "\n",
       "    .dataframe thead th {\n",
       "        text-align: left;\n",
       "    }\n",
       "\n",
       "    .dataframe tbody tr th {\n",
       "        vertical-align: top;\n",
       "    }\n",
       "</style>\n",
       "<table border=\"1\" class=\"dataframe\">\n",
       "  <thead>\n",
       "    <tr style=\"text-align: right;\">\n",
       "      <th></th>\n",
       "      <th>Gender</th>\n",
       "      <th>Nationality</th>\n",
       "      <th>PlaceofBirth</th>\n",
       "      <th>StageID</th>\n",
       "      <th>GradeID</th>\n",
       "      <th>SectionID</th>\n",
       "      <th>Topic</th>\n",
       "      <th>Semester</th>\n",
       "      <th>Relation</th>\n",
       "      <th>RaisedHands</th>\n",
       "      <th>...</th>\n",
       "      <th>Semester=F</th>\n",
       "      <th>Semester=S</th>\n",
       "      <th>Relation=Father</th>\n",
       "      <th>Relation=Mum</th>\n",
       "      <th>ParentAnsweringSurvey=No</th>\n",
       "      <th>ParentAnsweringSurvey=Yes</th>\n",
       "      <th>ParentSchoolSatisfaction=Bad</th>\n",
       "      <th>ParentSchoolSatisfaction=Good</th>\n",
       "      <th>StudentAbsenceDays=Above-7</th>\n",
       "      <th>StudentAbsenceDays=Under-7</th>\n",
       "    </tr>\n",
       "  </thead>\n",
       "  <tbody>\n",
       "    <tr>\n",
       "      <th>0</th>\n",
       "      <td>F</td>\n",
       "      <td>KW</td>\n",
       "      <td>KuwaIT</td>\n",
       "      <td>MiddleSchool</td>\n",
       "      <td>G-06</td>\n",
       "      <td>A</td>\n",
       "      <td>IT</td>\n",
       "      <td>F</td>\n",
       "      <td>Father</td>\n",
       "      <td>30</td>\n",
       "      <td>...</td>\n",
       "      <td>1</td>\n",
       "      <td>0</td>\n",
       "      <td>1</td>\n",
       "      <td>0</td>\n",
       "      <td>0</td>\n",
       "      <td>1</td>\n",
       "      <td>0</td>\n",
       "      <td>1</td>\n",
       "      <td>0</td>\n",
       "      <td>1</td>\n",
       "    </tr>\n",
       "    <tr>\n",
       "      <th>1</th>\n",
       "      <td>M</td>\n",
       "      <td>KW</td>\n",
       "      <td>KuwaIT</td>\n",
       "      <td>lowerlevel</td>\n",
       "      <td>G-02</td>\n",
       "      <td>C</td>\n",
       "      <td>IT</td>\n",
       "      <td>F</td>\n",
       "      <td>Father</td>\n",
       "      <td>0</td>\n",
       "      <td>...</td>\n",
       "      <td>1</td>\n",
       "      <td>0</td>\n",
       "      <td>1</td>\n",
       "      <td>0</td>\n",
       "      <td>0</td>\n",
       "      <td>1</td>\n",
       "      <td>1</td>\n",
       "      <td>0</td>\n",
       "      <td>0</td>\n",
       "      <td>1</td>\n",
       "    </tr>\n",
       "    <tr>\n",
       "      <th>2</th>\n",
       "      <td>M</td>\n",
       "      <td>Tunis</td>\n",
       "      <td>Tunis</td>\n",
       "      <td>MiddleSchool</td>\n",
       "      <td>G-07</td>\n",
       "      <td>A</td>\n",
       "      <td>Quran</td>\n",
       "      <td>S</td>\n",
       "      <td>Father</td>\n",
       "      <td>19</td>\n",
       "      <td>...</td>\n",
       "      <td>0</td>\n",
       "      <td>1</td>\n",
       "      <td>1</td>\n",
       "      <td>0</td>\n",
       "      <td>1</td>\n",
       "      <td>0</td>\n",
       "      <td>1</td>\n",
       "      <td>0</td>\n",
       "      <td>1</td>\n",
       "      <td>0</td>\n",
       "    </tr>\n",
       "    <tr>\n",
       "      <th>3</th>\n",
       "      <td>M</td>\n",
       "      <td>Egypt</td>\n",
       "      <td>Egypt</td>\n",
       "      <td>lowerlevel</td>\n",
       "      <td>G-04</td>\n",
       "      <td>A</td>\n",
       "      <td>Math</td>\n",
       "      <td>S</td>\n",
       "      <td>Mum</td>\n",
       "      <td>49</td>\n",
       "      <td>...</td>\n",
       "      <td>0</td>\n",
       "      <td>1</td>\n",
       "      <td>0</td>\n",
       "      <td>1</td>\n",
       "      <td>1</td>\n",
       "      <td>0</td>\n",
       "      <td>1</td>\n",
       "      <td>0</td>\n",
       "      <td>1</td>\n",
       "      <td>0</td>\n",
       "    </tr>\n",
       "    <tr>\n",
       "      <th>4</th>\n",
       "      <td>M</td>\n",
       "      <td>KW</td>\n",
       "      <td>KuwaIT</td>\n",
       "      <td>lowerlevel</td>\n",
       "      <td>G-02</td>\n",
       "      <td>B</td>\n",
       "      <td>French</td>\n",
       "      <td>S</td>\n",
       "      <td>Father</td>\n",
       "      <td>40</td>\n",
       "      <td>...</td>\n",
       "      <td>0</td>\n",
       "      <td>1</td>\n",
       "      <td>1</td>\n",
       "      <td>0</td>\n",
       "      <td>0</td>\n",
       "      <td>1</td>\n",
       "      <td>0</td>\n",
       "      <td>1</td>\n",
       "      <td>0</td>\n",
       "      <td>1</td>\n",
       "    </tr>\n",
       "  </tbody>\n",
       "</table>\n",
       "<p>5 rows × 85 columns</p>\n",
       "</div>"
      ],
      "text/plain": [
       "  Gender Nationality PlaceofBirth       StageID GradeID SectionID   Topic  \\\n",
       "0      F          KW       KuwaIT  MiddleSchool    G-06         A      IT   \n",
       "1      M          KW       KuwaIT    lowerlevel    G-02         C      IT   \n",
       "2      M       Tunis        Tunis  MiddleSchool    G-07         A   Quran   \n",
       "3      M       Egypt        Egypt    lowerlevel    G-04         A    Math   \n",
       "4      M          KW       KuwaIT    lowerlevel    G-02         B  French   \n",
       "\n",
       "  Semester Relation  RaisedHands             ...              Semester=F  \\\n",
       "0        F   Father           30             ...                       1   \n",
       "1        F   Father            0             ...                       1   \n",
       "2        S   Father           19             ...                       0   \n",
       "3        S      Mum           49             ...                       0   \n",
       "4        S   Father           40             ...                       0   \n",
       "\n",
       "   Semester=S  Relation=Father Relation=Mum ParentAnsweringSurvey=No  \\\n",
       "0           0                1            0                        0   \n",
       "1           0                1            0                        0   \n",
       "2           1                1            0                        1   \n",
       "3           1                0            1                        1   \n",
       "4           1                1            0                        0   \n",
       "\n",
       "  ParentAnsweringSurvey=Yes ParentSchoolSatisfaction=Bad  \\\n",
       "0                         1                            0   \n",
       "1                         1                            1   \n",
       "2                         0                            1   \n",
       "3                         0                            1   \n",
       "4                         1                            0   \n",
       "\n",
       "   ParentSchoolSatisfaction=Good  StudentAbsenceDays=Above-7  \\\n",
       "0                              1                           0   \n",
       "1                              0                           0   \n",
       "2                              0                           1   \n",
       "3                              0                           1   \n",
       "4                              1                           0   \n",
       "\n",
       "   StudentAbsenceDays=Under-7  \n",
       "0                           1  \n",
       "1                           1  \n",
       "2                           0  \n",
       "3                           0  \n",
       "4                           1  \n",
       "\n",
       "[5 rows x 85 columns]"
      ]
     },
     "execution_count": 35,
     "metadata": {},
     "output_type": "execute_result"
    }
   ],
   "source": [
    "Z.head()"
   ]
  },
  {
   "cell_type": "code",
   "execution_count": 36,
   "metadata": {},
   "outputs": [
    {
     "data": {
      "text/plain": [
       "Index(['Gender', 'Nationality', 'PlaceofBirth', 'StageID', 'GradeID',\n",
       "       'SectionID', 'Topic', 'Semester', 'Relation', 'RaisedHands',\n",
       "       'VisitedResources', 'AnnouncementsView', 'Discussion',\n",
       "       'ParentAnsweringSurvey', 'ParentSchoolSatisfaction',\n",
       "       'StudentAbsenceDays', 'Class', 'Gender=F', 'Gender=M',\n",
       "       'Nationality=Egypt', 'Nationality=Iran', 'Nationality=Iraq',\n",
       "       'Nationality=Jordan', 'Nationality=KW', 'Nationality=Lybia',\n",
       "       'Nationality=Morocco', 'Nationality=Palestine',\n",
       "       'Nationality=SaudiArabia', 'Nationality=Syria', 'Nationality=Tunis',\n",
       "       'Nationality=USA', 'Nationality=lebanon', 'Nationality=venzuela',\n",
       "       'PlaceofBirth=Egypt', 'PlaceofBirth=Iran', 'PlaceofBirth=Iraq',\n",
       "       'PlaceofBirth=Jordan', 'PlaceofBirth=KuwaIT', 'PlaceofBirth=Lybia',\n",
       "       'PlaceofBirth=Morocco', 'PlaceofBirth=Palestine',\n",
       "       'PlaceofBirth=SaudiArabia', 'PlaceofBirth=Syria', 'PlaceofBirth=Tunis',\n",
       "       'PlaceofBirth=USA', 'PlaceofBirth=lebanon', 'PlaceofBirth=venzuela',\n",
       "       'StageID=HighSchool', 'StageID=MiddleSchool', 'StageID=lowerlevel',\n",
       "       'GradeID=G-02', 'GradeID=G-04', 'GradeID=G-05', 'GradeID=G-06',\n",
       "       'GradeID=G-07', 'GradeID=G-08', 'GradeID=G-09', 'GradeID=G-10',\n",
       "       'GradeID=G-11', 'GradeID=G-12', 'SectionID=A', 'SectionID=B',\n",
       "       'SectionID=C', 'Topic=Arabic', 'Topic=Biology', 'Topic=Chemistry',\n",
       "       'Topic=English', 'Topic=French', 'Topic=Geology', 'Topic=History',\n",
       "       'Topic=IT', 'Topic=Math', 'Topic=Quran', 'Topic=Science',\n",
       "       'Topic=Spanish', 'Semester=F', 'Semester=S', 'Relation=Father',\n",
       "       'Relation=Mum', 'ParentAnsweringSurvey=No', 'ParentAnsweringSurvey=Yes',\n",
       "       'ParentSchoolSatisfaction=Bad', 'ParentSchoolSatisfaction=Good',\n",
       "       'StudentAbsenceDays=Above-7', 'StudentAbsenceDays=Under-7'],\n",
       "      dtype='object')"
      ]
     },
     "execution_count": 36,
     "metadata": {},
     "output_type": "execute_result"
    }
   ],
   "source": [
    "Z.columns"
   ]
  },
  {
   "cell_type": "markdown",
   "metadata": {},
   "source": [
    "#### Add one most significant categorical feature (in one-hot-encoded representation) to X \n",
    "* don't forget to standardize numeric features to zero mean, unit variance"
   ]
  },
  {
   "cell_type": "code",
   "execution_count": 37,
   "metadata": {
    "scrolled": true
   },
   "outputs": [
    {
     "data": {
      "text/plain": [
       "Class                         1.000000\n",
       "StudentAbsenceDays=Under-7    0.324328\n",
       "StudentAbsenceDays=Above-7    0.324328\n",
       "StudentAbsenceDays            0.324328\n",
       "VisitedResources              0.214643\n",
       "dtype: float64"
      ]
     },
     "execution_count": 37,
     "metadata": {},
     "output_type": "execute_result"
    }
   ],
   "source": [
    "s = pd.Series()\n",
    "\n",
    "for c in Z.columns:\n",
    "    s.set_value(c, \n",
    "                sklearn.metrics.normalized_mutual_info_score(Z[c], Y))\n",
    "    \n",
    "s.sort_values(ascending=False).head(5)"
   ]
  },
  {
   "cell_type": "code",
   "execution_count": 38,
   "metadata": {},
   "outputs": [],
   "source": [
    "new_X = hstack((norm_X, Z[['StudentAbsenceDays=Under-7', 'StudentAbsenceDays=Above-7']]))"
   ]
  },
  {
   "cell_type": "markdown",
   "metadata": {},
   "source": [
    "#### Make optimization over n_neighbors, weights, p. Did the quality improve?"
   ]
  },
  {
   "cell_type": "code",
   "execution_count": 39,
   "metadata": {},
   "outputs": [],
   "source": [
    "n_neighbors=[1,3,5,7,11, 16, 25, 51]\n",
    "params = {'n_neighbors' : [1,3,5,7,11, 16, 25, 51],\n",
    "          'weights' : ['uniform','distance'],\n",
    "          'p' : [1,2,3,4,5,7]}"
   ]
  },
  {
   "cell_type": "code",
   "execution_count": 40,
   "metadata": {},
   "outputs": [
    {
     "name": "stdout",
     "output_type": "stream",
     "text": [
      "Best score:  0.7333333333333333 Best params:  {'n_neighbors': 25, 'p': 1, 'weights': 'distance'}\n"
     ]
    }
   ],
   "source": [
    "clf = GridSearchCV(KNeighborsClassifier(), params)\n",
    "clf.fit(new_X,Y)\n",
    "print('Best score: ', clf.best_score_, \n",
    "      'Best params: ', clf.best_params_)"
   ]
  },
  {
   "cell_type": "markdown",
   "metadata": {},
   "source": [
    "#### Add several most significant categorical features (in one-hot-encoded representation) to X \n"
   ]
  },
  {
   "cell_type": "code",
   "execution_count": 41,
   "metadata": {},
   "outputs": [],
   "source": [
    "newest_X = hstack((new_X, Z[['ParentAnsweringSurvey=No', 'ParentAnsweringSurvey=Yes', 'Relation=Father', 'Relation=Mum']]))"
   ]
  },
  {
   "cell_type": "code",
   "execution_count": 42,
   "metadata": {},
   "outputs": [
    {
     "name": "stdout",
     "output_type": "stream",
     "text": [
      "Best score:  0.7541666666666667 Best params:  {'n_neighbors': 25, 'p': 1, 'weights': 'distance'}\n"
     ]
    }
   ],
   "source": [
    "clf = GridSearchCV(KNeighborsClassifier(), params)\n",
    "clf.fit(newest_X,Y)\n",
    "print('Best score: ', clf.best_score_, \n",
    "      'Best params: ', clf.best_params_)"
   ]
  },
  {
   "cell_type": "code",
   "execution_count": 43,
   "metadata": {
    "scrolled": true
   },
   "outputs": [
    {
     "data": {
      "text/plain": [
       "array([[-0.447804, -0.59882 ,  0.822801,  1.      ,  0.      ,  0.      ,  1.      ,  1.      ,  0.      ],\n",
       "       [-1.476687, -1.275932, -1.024427,  1.      ,  0.      ,  0.      ,  1.      ,  1.      ,  0.      ],\n",
       "       [ 0.308728,  0.454464, -1.205528,  0.      ,  1.      ,  1.      ,  0.      ,  1.      ,  0.      ],\n",
       "       [ 1.186305,  0.153526, -1.314188,  0.      ,  1.      ,  1.      ,  0.      ,  0.      ,  1.      ],\n",
       "       [ 0.217944,  1.695835, -0.372464,  1.      ,  0.      ,  0.      ,  1.      ,  1.      ,  0.      ],\n",
       "       [ 0.611341,  0.642551, -1.169308,  1.      ,  0.      ,  0.      ,  1.      ,  1.      ,  0.      ],\n",
       "       [ 1.125783,  1.921539,  1.438544,  1.      ,  0.      ,  0.      ,  1.      ,  1.      ,  0.      ],\n",
       "       [-1.597732, -1.087845,  0.207059,  0.      ,  1.      ,  1.      ,  0.      ,  1.      ,  0.      ],\n",
       "       [-0.8412  , -1.426401,  0.931462,  0.      ,  1.      ,  1.      ,  0.      ,  1.      ,  0.      ],\n",
       "       [-1.29512 , -1.275932,  1.329884,  1.      ,  0.      ,  1.      ,  0.      ,  1.      ,  0.      ],\n",
       "       ...,\n",
       "       [ 0.187683,  0.153526, -1.060647,  1.      ,  0.      ,  1.      ,  0.      ,  1.      ,  0.      ],\n",
       "       [ 0.762647, -0.485969,  0.967682,  1.      ,  0.      ,  0.      ,  1.      ,  1.      ,  0.      ],\n",
       "       [ 1.06526 ,  0.492081, -0.951987,  1.      ,  0.      ,  0.      ,  1.      ,  0.      ,  1.      ],\n",
       "       [-0.35702 ,  0.153526, -0.372464,  1.      ,  0.      ,  0.      ,  1.      ,  1.      ,  0.      ],\n",
       "       [ 0.58108 , -0.222647, -0.951987,  0.      ,  1.      ,  1.      ,  0.      ,  0.      ,  1.      ],\n",
       "       [-1.355642, -0.674055, -1.386629,  0.      ,  1.      ,  1.      ,  0.      ,  1.      ,  0.      ],\n",
       "       [ 1.095521,  0.905872,  0.351939,  1.      ,  0.      ,  0.      ,  1.      ,  0.      ,  1.      ],\n",
       "       [-0.780678,  0.078291, -0.951987,  1.      ,  0.      ,  1.      ,  0.      ,  0.      ,  1.      ],\n",
       "       [-1.53721 ,  0.040674,  1.692085,  1.      ,  0.      ,  0.      ,  1.      ,  0.      ,  1.      ],\n",
       "       [-0.992507,  0.567316, -1.096867,  0.      ,  1.      ,  1.      ,  0.      ,  0.      ,  1.      ]])"
      ]
     },
     "execution_count": 43,
     "metadata": {},
     "output_type": "execute_result"
    }
   ],
   "source": [
    "newest_X"
   ]
  },
  {
   "cell_type": "markdown",
   "metadata": {},
   "source": [
    "#### Specify your own distance function to K-NN, calculating $L_1$ normed distance. Numeric features there should be added with weights 1 and one-hot encoded features should be added with custom constant weight w."
   ]
  },
  {
   "cell_type": "code",
   "execution_count": 44,
   "metadata": {},
   "outputs": [],
   "source": [
    "def L1_normed(x, y, p =0.5):\n",
    "    _sum = 0\n",
    "    for i in range(3):\n",
    "        _sum += abs(x[i] - y[i])\n",
    "    for i in range(3, len(x)):\n",
    "        _sum += p * abs(x[i] - y[i])\n",
    "    return _sum\n",
    "\n",
    "params = {'n_neighbors' : [1,3,5,7,11, 16, 25, 51],\n",
    "          'weights' : ['uniform','distance'],\n",
    "          'metric_params' : [{'p' : 0.05*i+0.05} for i in range(40)]}"
   ]
  },
  {
   "cell_type": "code",
   "execution_count": 45,
   "metadata": {},
   "outputs": [],
   "source": [
    "clf = GridSearchCV(KNeighborsClassifier(metric=L1_normed), params)"
   ]
  },
  {
   "cell_type": "code",
   "execution_count": null,
   "metadata": {},
   "outputs": [],
   "source": [
    "%%time\n",
    "\n",
    "clf.fit(newest_X,Y)\n",
    "print('Best score: ', clf.best_score_, \n",
    "      'Best params: ', clf.best_params_)"
   ]
  },
  {
   "cell_type": "markdown",
   "metadata": {},
   "source": [
    "#### Finetune K-NN with your custom distance function by it's major parameters and w optimization. Report CV accuracy and best parameters."
   ]
  },
  {
   "cell_type": "markdown",
   "metadata": {
    "collapsed": true
   },
   "source": [
    "### Free hunt for bonus points: make whatever additional experiments you like to explore the data or improve the quality and report interesting findings."
   ]
  },
  {
   "cell_type": "code",
   "execution_count": null,
   "metadata": {
    "scrolled": true
   },
   "outputs": [],
   "source": [
    "groupedByGenderCount = Z.groupby('Gender').count()\n",
    "males = groupedByGenderCount.loc['M']['Nationality']\n",
    "females = groupedByGenderCount.loc['F']['Nationality']\n",
    "print('Percent of males: ', males/(females + males))"
   ]
  },
  {
   "cell_type": "code",
   "execution_count": null,
   "metadata": {},
   "outputs": [],
   "source": [
    "groupedByGenderSum = Z.groupby('Gender').sum()\n",
    "groupedByGenderSum"
   ]
  },
  {
   "cell_type": "code",
   "execution_count": null,
   "metadata": {},
   "outputs": [],
   "source": [
    "male_hands = groupedByGenderSum.loc['M']['RaisedHands']\n",
    "female_hands = groupedByGenderSum.loc['F']['RaisedHands']\n",
    "print('Percent of male\\'s raised hands: ', male_hands / (male_hands + fe))"
   ]
  }
 ],
 "metadata": {
  "kernelspec": {
   "display_name": "Python 3",
   "language": "python",
   "name": "python3"
  },
  "language_info": {
   "codemirror_mode": {
    "name": "ipython",
    "version": 3
   },
   "file_extension": ".py",
   "mimetype": "text/x-python",
   "name": "python",
   "nbconvert_exporter": "python",
   "pygments_lexer": "ipython3",
   "version": "3.6.2"
  }
 },
 "nbformat": 4,
 "nbformat_minor": 2
}
