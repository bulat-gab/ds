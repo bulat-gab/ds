{
 "cells": [
  {
   "cell_type": "markdown",
   "metadata": {},
   "source": [
    "## Outlier detection.\n",
    "\n",
    "In this task you will be given a dataset of credit card transactions, small proportion \n",
    "of which is identified as fraudulent (see *data description.txt*). Since there are too few frauds and too many regular transactions, standard classification methods are not directly appliccable. But since frauds are untypical you may use outlier detection methods to identify them.\n",
    "\n",
    "In this task you need to identify the best outlier detection method with best parameters to detect frauds out of three outlier detection methods offered in sklearn. Quality metric is area-under-curve (AUC)."
   ]
  },
  {
   "cell_type": "code",
   "execution_count": null,
   "metadata": {},
   "outputs": [],
   "source": [
    "%pylab inline\n",
    "%precision 6"
   ]
  },
  {
   "cell_type": "code",
   "execution_count": null,
   "metadata": {
    "collapsed": true
   },
   "outputs": [],
   "source": [
    "import sklearn\n",
    "import sklearn as skl\n",
    "import pandas as pd\n",
    "from pdb import set_trace as bp"
   ]
  },
  {
   "cell_type": "code",
   "execution_count": null,
   "metadata": {
    "collapsed": true
   },
   "outputs": [],
   "source": [
    "np.set_printoptions(linewidth=140,edgeitems=10)\n",
    "rcParams['figure.figsize'] = (8.0, 5.0)"
   ]
  },
  {
   "cell_type": "code",
   "execution_count": null,
   "metadata": {
    "collapsed": true
   },
   "outputs": [],
   "source": [
    "from common.classes.Struct import Struct\n",
    "from common.visualize.colors import COLORS\n",
    "from common.visualize.data import plot_corr\n",
    "from common.visualize.distributions import cont_dist_classification, pca_2D, cross_distributions\n",
    "from common.visualize.distributions import cross_distributions_classification, cross_distributions_regression"
   ]
  },
  {
   "cell_type": "markdown",
   "metadata": {},
   "source": [
    "### Data preparation"
   ]
  },
  {
   "cell_type": "code",
   "execution_count": null,
   "metadata": {
    "collapsed": true
   },
   "outputs": [],
   "source": [
    "Z=pd.read_csv('data.csv')"
   ]
  },
  {
   "cell_type": "code",
   "execution_count": null,
   "metadata": {
    "scrolled": true
   },
   "outputs": [],
   "source": [
    "Z.head()"
   ]
  },
  {
   "cell_type": "code",
   "execution_count": null,
   "metadata": {},
   "outputs": [],
   "source": [
    "Z.describe()"
   ]
  },
  {
   "cell_type": "code",
   "execution_count": null,
   "metadata": {
    "collapsed": true
   },
   "outputs": [],
   "source": [
    "random.seed(0)\n",
    "inds = random.permutation(arange(len(Z)))\n",
    "\n",
    "Z=Z.loc[inds]\n",
    "\n",
    "Z.index = arange(len(Z))"
   ]
  },
  {
   "cell_type": "code",
   "execution_count": null,
   "metadata": {
    "collapsed": true
   },
   "outputs": [],
   "source": [
    "inds0 = find(Z['Class'].values==0)\n",
    "inds1 = find(Z['Class'].values==1)\n",
    "\n",
    "# for simplicity of computations consider subset of original sample.\n",
    "inds0 = inds0[:len(inds0)//3]\n",
    "inds1 = inds1[:len(inds1)//3]\n",
    "\n",
    "inds = hstack( [inds0, inds1] ) \n",
    "random.seed(0)\n",
    "inds = random.permutation(inds)\n",
    "\n",
    "Z=Z.loc[inds] # to simplify future computations"
   ]
  },
  {
   "cell_type": "code",
   "execution_count": null,
   "metadata": {},
   "outputs": [],
   "source": [
    "len(Z)"
   ]
  },
  {
   "cell_type": "code",
   "execution_count": null,
   "metadata": {},
   "outputs": [],
   "source": [
    "Z.Class.value_counts()"
   ]
  },
  {
   "cell_type": "code",
   "execution_count": null,
   "metadata": {
    "collapsed": true
   },
   "outputs": [],
   "source": [
    "Z.index = arange(len(Z))"
   ]
  },
  {
   "cell_type": "code",
   "execution_count": null,
   "metadata": {
    "collapsed": true
   },
   "outputs": [],
   "source": [
    "features = ['V%d'%i for i in arange(1,28+1)]"
   ]
  },
  {
   "cell_type": "code",
   "execution_count": null,
   "metadata": {
    "collapsed": true
   },
   "outputs": [],
   "source": [
    "X = Z[features].values\n",
    "Y = Z['Class'].values"
   ]
  },
  {
   "cell_type": "code",
   "execution_count": null,
   "metadata": {},
   "outputs": [],
   "source": [
    "len(X), len(Y)"
   ]
  },
  {
   "cell_type": "code",
   "execution_count": null,
   "metadata": {
    "collapsed": true
   },
   "outputs": [],
   "source": [
    "time=Z.Time.values"
   ]
  },
  {
   "cell_type": "markdown",
   "metadata": {},
   "source": [
    "#### Plot distribution of the total number of transactions. Does it have any day/night pattern?"
   ]
  },
  {
   "cell_type": "markdown",
   "metadata": {},
   "source": [
    "#### Plot distribution of the fraudulent number of transactions. Does it have any day/night pattern?"
   ]
  },
  {
   "cell_type": "markdown",
   "metadata": {},
   "source": [
    "### Train, test sets"
   ]
  },
  {
   "cell_type": "code",
   "execution_count": null,
   "metadata": {
    "collapsed": true
   },
   "outputs": [],
   "source": [
    "train_inds = find(time<86400) # train - previous day\n",
    "test_inds = find(time>=86400) # test - next day"
   ]
  },
  {
   "cell_type": "markdown",
   "metadata": {},
   "source": [
    "## Data visualizations\n",
    "\n",
    "Should be performed on **train set only**"
   ]
  },
  {
   "cell_type": "markdown",
   "metadata": {},
   "source": [
    "#### Estimate class proportions"
   ]
  },
  {
   "cell_type": "markdown",
   "metadata": {},
   "source": [
    "#### Plot distributions $p(f|y=0), p(f|y=1)$ of all features f.\n",
    "\n",
    "$p(f|y=0), p(f|y=1)$ should lie on one graph and different f should belong to different graphs.\n",
    "\n",
    "Useful function: common.vizualize.distributions.cont_dist_classification"
   ]
  },
  {
   "cell_type": "markdown",
   "metadata": {},
   "source": [
    "#### Redraw the graph above for some very discriminative feature. Title it with feature name."
   ]
  },
  {
   "cell_type": "markdown",
   "metadata": {},
   "source": [
    "#### Redraw the graph above for some least discriminative feature. Title it with feature name."
   ]
  },
  {
   "cell_type": "markdown",
   "metadata": {},
   "source": [
    "### Plot data in first 2 principal component space\n",
    "Useful function: common.visualize.cross_distributions.pca_2D\n",
    "    \n",
    "Are frauds separable?"
   ]
  },
  {
   "cell_type": "markdown",
   "metadata": {},
   "source": [
    "#### Plot correlations between features.\n",
    "\n",
    "Useful function: common.visualize.data.plot_corr\n",
    "\n",
    "What regularities do you see? "
   ]
  },
  {
   "cell_type": "markdown",
   "metadata": {},
   "source": [
    "# Anomaly detection"
   ]
  },
  {
   "cell_type": "markdown",
   "metadata": {},
   "source": [
    "Below you need to compare outlier detectin methods, using the following scheme:\n",
    "    1. find optimal parameters with GridSearchCV with default number of folds on TRAIN SET\n",
    "       Set n_jobs=1 (GridSearchCV may not work otherwise).\n",
    "    2. display best parameters\n",
    "    3. apply method with best parameters to TEST SET\n",
    "    4. show ROC curve for TEST SET with title 'AUC=<value>', where <value> is estimated AUC value."
   ]
  },
  {
   "cell_type": "code",
   "execution_count": null,
   "metadata": {
    "collapsed": true
   },
   "outputs": [],
   "source": [
    "from sklearn.metrics import roc_curve, auc\n",
    "from sklearn.model_selection import GridSearchCV\n",
    "\n",
    "from sklearn.neighbors import LocalOutlierFactor\n",
    "from sklearn.covariance import EmpiricalCovariance\n",
    "from sklearn.ensemble import IsolationForest"
   ]
  },
  {
   "cell_type": "markdown",
   "metadata": {},
   "source": [
    "#### GridSearchCV should use everywhere scoring=my_auc_score defined below.\n",
    "\n",
    "Y_hat is the **score**, showing how much an object looks like an outlier. So **predict** methods should **return scores, not classes.**\n",
    "\n",
    "To obtain such predict method, you will need to redefine (by inheritance) original scikit-learn methods.\n",
    "\n",
    "Don't confuse object outlier score with object normality score."
   ]
  },
  {
   "cell_type": "code",
   "execution_count": null,
   "metadata": {
    "collapsed": true
   },
   "outputs": [],
   "source": [
    "from sklearn.metrics import make_scorer\n",
    "\n",
    "def my_auc(Y,Y_hat):\n",
    "    fpr,tpr,_ = roc_curve(Y, Y_hat, pos_label=1)\n",
    "    return auc(fpr, tpr)\n",
    "\n",
    "my_auc_score = make_scorer(my_auc, greater_is_better=True)"
   ]
  },
  {
   "cell_type": "markdown",
   "metadata": {},
   "source": [
    "### LocalOutlierFactor method"
   ]
  },
  {
   "cell_type": "markdown",
   "metadata": {},
   "source": [
    "#### Show best parameters on train set.\n",
    "\n",
    "Consider grid {'n_neighbors':[1,3,7],'p':[1,2]}"
   ]
  },
  {
   "cell_type": "markdown",
   "metadata": {},
   "source": [
    "#### Show quality on test set."
   ]
  },
  {
   "cell_type": "markdown",
   "metadata": {},
   "source": [
    "### EmpiricalCovariance method"
   ]
  },
  {
   "cell_type": "markdown",
   "metadata": {},
   "source": [
    "#### Since method does not have tunable parametes, just show its ROC & AUC on test set."
   ]
  },
  {
   "cell_type": "markdown",
   "metadata": {},
   "source": [
    "### IsolationForest method"
   ]
  },
  {
   "cell_type": "markdown",
   "metadata": {},
   "source": [
    "#### Show best parameters on train set"
   ]
  },
  {
   "cell_type": "markdown",
   "metadata": {},
   "source": [
    "#### Show quality on test set.\n",
    "\n",
    "Does the quality increase with increase of **n_estimators**?"
   ]
  }
 ],
 "metadata": {
  "kernelspec": {
   "display_name": "Python 3",
   "language": "python",
   "name": "python3"
  },
  "language_info": {
   "codemirror_mode": {
    "name": "ipython",
    "version": 3
   },
   "file_extension": ".py",
   "mimetype": "text/x-python",
   "name": "python",
   "nbconvert_exporter": "python",
   "pygments_lexer": "ipython3",
   "version": "3.6.2"
  }
 },
 "nbformat": 4,
 "nbformat_minor": 2
}
