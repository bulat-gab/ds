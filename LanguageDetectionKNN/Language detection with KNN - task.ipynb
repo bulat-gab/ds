{
 "cells": [
  {
   "cell_type": "markdown",
   "metadata": {},
   "source": [
    "# Laguage detection task\n"
   ]
  },
  {
   "cell_type": "code",
   "execution_count": 1,
   "metadata": {},
   "outputs": [
    {
     "name": "stdout",
     "output_type": "stream",
     "text": [
      "Populating the interactive namespace from numpy and matplotlib\n"
     ]
    }
   ],
   "source": [
    "%pylab inline"
   ]
  },
  {
   "cell_type": "markdown",
   "metadata": {},
   "source": [
    "#### In this task objects will be words either in English or in French, and you will have to implement K-NN classifier predicting the language of each word by its Levenstein (edit) distance to the words in the training set."
   ]
  },
  {
   "cell_type": "markdown",
   "metadata": {},
   "source": [
    "* Download python wheel Python-Levenstein from <http://www.lfd.uci.edu/~gohlke/pythonlibs/#python-levenshtein>\n",
    "* Install it with pip intall [wheel-name].\n",
    "* Levenstein distance can now be computed as Levenshtein.distance(source, target)"
   ]
  },
  {
   "cell_type": "code",
   "execution_count": 3,
   "metadata": {
    "scrolled": true
   },
   "outputs": [],
   "source": [
    "import Levenshtein"
   ]
  },
  {
   "cell_type": "code",
   "execution_count": 4,
   "metadata": {},
   "outputs": [],
   "source": [
    "import sklearn as skl\n",
    "import pandas as pd"
   ]
  },
  {
   "cell_type": "code",
   "execution_count": 5,
   "metadata": {},
   "outputs": [],
   "source": [
    "with open('Data/en.txt') as f:\n",
    "    english = f.readlines()\n",
    "    \n",
    "with open('Data/fr.txt') as f:\n",
    "    french = f.readlines()"
   ]
  },
  {
   "cell_type": "code",
   "execution_count": 6,
   "metadata": {},
   "outputs": [
    {
     "data": {
      "text/plain": [
       "(164144, 191448)"
      ]
     },
     "execution_count": 6,
     "metadata": {},
     "output_type": "execute_result"
    }
   ],
   "source": [
    "len(english), len(french)"
   ]
  },
  {
   "cell_type": "code",
   "execution_count": 7,
   "metadata": {},
   "outputs": [],
   "source": [
    "random.seed(0)"
   ]
  },
  {
   "cell_type": "code",
   "execution_count": 8,
   "metadata": {},
   "outputs": [
    {
     "data": {
      "text/plain": [
       "['twist\\n', 'author\\n', 'charles\\n', 'dickens\\n']"
      ]
     },
     "execution_count": 8,
     "metadata": {},
     "output_type": "execute_result"
    }
   ],
   "source": [
    "english[:4]"
   ]
  },
  {
   "cell_type": "code",
   "execution_count": 9,
   "metadata": {},
   "outputs": [
    {
     "data": {
      "text/plain": [
       "['des\\n', 'mati\\n', 'res\\n', 'chapitre\\n']"
      ]
     },
     "execution_count": 9,
     "metadata": {},
     "output_type": "execute_result"
    }
   ],
   "source": [
    "french[:4]"
   ]
  },
  {
   "cell_type": "code",
   "execution_count": 10,
   "metadata": {},
   "outputs": [],
   "source": [
    "random.seed(0)"
   ]
  },
  {
   "cell_type": "code",
   "execution_count": 11,
   "metadata": {},
   "outputs": [],
   "source": [
    "random.shuffle(english)"
   ]
  },
  {
   "cell_type": "code",
   "execution_count": 12,
   "metadata": {},
   "outputs": [],
   "source": [
    "random.shuffle(french)"
   ]
  },
  {
   "cell_type": "markdown",
   "metadata": {},
   "source": [
    "#### Forming train and test sets your the task."
   ]
  },
  {
   "cell_type": "code",
   "execution_count": 13,
   "metadata": {},
   "outputs": [],
   "source": [
    "N1 = 15000\n",
    "N2 = 500\n",
    "X_train = english[:N1]+french[:N1]\n",
    "Y_train = [1]*N1 + [2]*N1\n",
    "X_test = english[N1:N1+N2]+french[N1:N1+N2]\n",
    "Y_test = [1]*N2 + [2]*N2"
   ]
  },
  {
   "cell_type": "code",
   "execution_count": 14,
   "metadata": {},
   "outputs": [],
   "source": [
    "inds = arange(len(X_train)) \n",
    "inds = random.permutation(inds)\n",
    "X_train = [X_train[ind] for ind in inds]\n",
    "Y_train = [Y_train[ind] for ind in inds]\n",
    "\n",
    "inds = arange(len(X_test))\n",
    "inds = random.permutation(inds)\n",
    "X_test = [X_test[ind] for ind in inds]\n",
    "Y_test = [Y_test[ind] for ind in inds]"
   ]
  },
  {
   "cell_type": "code",
   "execution_count": 15,
   "metadata": {},
   "outputs": [],
   "source": [
    "# Cleaning datasets\n",
    "\n",
    "X_train = [w.replace('\\n', '') for w in X_train]\n",
    "X_test = [w.replace('\\n', '') for w in X_test]"
   ]
  },
  {
   "cell_type": "code",
   "execution_count": 16,
   "metadata": {
    "scrolled": true
   },
   "outputs": [
    {
     "data": {
      "text/plain": [
       "6"
      ]
     },
     "execution_count": 16,
     "metadata": {},
     "output_type": "execute_result"
    }
   ],
   "source": [
    "Levenshtein.distance(\"translation\", \"application\")"
   ]
  },
  {
   "cell_type": "markdown",
   "metadata": {},
   "source": [
    "#### Implement KNN class having constructor, fit(X,Y), predict_one(x) and predict(X) methods.\n",
    "\n",
    "* constructor should have parameter K\n",
    "* predict_one(x) predicts class for single object\n",
    "* predict(X) predicts class for each row of X\n",
    "\n",
    "You will need this class, because default implementation of K-NN \n",
    "requires objects to be numeric vectors and your objects are strings."
   ]
  },
  {
   "cell_type": "code",
   "execution_count": 17,
   "metadata": {},
   "outputs": [],
   "source": [
    "class KNN:\n",
    "    def __init__(self, K=1):\n",
    "        self.k = K\n",
    "        \n",
    "    def fit(self, X, Y):\n",
    "        self.X_train = X\n",
    "        self.Y_train = Y\n",
    "    \n",
    "    def predict_one(self, x):     \n",
    "        df = self._build_dataframe()\n",
    "        \n",
    "        distances = [Levenshtein.distance(word, x) for word in self.X_train]\n",
    "        df['distance'] = pd.Series(distances)\n",
    "            \n",
    "        df = df.sort_values('distance')\n",
    "        neighbours = df.head(self.k)\n",
    "        grouped = neighbours.groupby('label').count()\n",
    "        \n",
    "        return grouped['word'].idxmax()\n",
    "        \n",
    "    def predict(self, X):\n",
    "        predictions_list = [self.predict_one(word) for word in X]\n",
    "        result = pd.DataFrame(X, columns=['word'])\n",
    "        result['predicted'] = pd.Series(predictions_list)\n",
    "            \n",
    "        return result\n",
    "    \n",
    "    def _build_dataframe(self):\n",
    "        base_df = pd.DataFrame(self.X_train)\n",
    "        base_df.columns = ['word']\n",
    "        base_df['label'] = pd.Series(self.Y_train)\n",
    "\n",
    "        return base_df"
   ]
  },
  {
   "cell_type": "code",
   "execution_count": 18,
   "metadata": {},
   "outputs": [],
   "source": [
    "K=[1,3,5,7,11,21]\n",
    "knns = []\n",
    "\n",
    "for i in K:\n",
    "    tmp = KNN(i)\n",
    "    tmp.fit(X_train, Y_train)\n",
    "    knns.append(tmp)\n",
    "    "
   ]
  },
  {
   "cell_type": "code",
   "execution_count": 19,
   "metadata": {},
   "outputs": [
    {
     "name": "stdout",
     "output_type": "stream",
     "text": [
      "CPU times: user 3min 4s, sys: 1.13 s, total: 3min 6s\n",
      "Wall time: 3min 7s\n"
     ]
    }
   ],
   "source": [
    "%%time\n",
    "\n",
    "test_data = [] \n",
    "for knn in knns:\n",
    "    test_data.append(knn.predict(X_test))"
   ]
  },
  {
   "cell_type": "code",
   "execution_count": 20,
   "metadata": {
    "scrolled": true
   },
   "outputs": [],
   "source": [
    "# Preparing dataframe for comparing predicted and actual labels\n",
    "\n",
    "for data in test_data:\n",
    "    data['actual'] = pd.Series(Y_test)\n"
   ]
  },
  {
   "cell_type": "code",
   "execution_count": 21,
   "metadata": {},
   "outputs": [],
   "source": [
    "accuracy = []\n",
    "for data in test_data:\n",
    "    pred_list = data['predicted']\n",
    "    act_list = data['actual']\n",
    "    diff = 0\n",
    "    \n",
    "    for i,j in zip(pred_list, act_list):\n",
    "        if i != j:\n",
    "            diff += 1\n",
    "    accuracy.append((1000 - diff) / 1000)"
   ]
  },
  {
   "cell_type": "markdown",
   "metadata": {},
   "source": [
    "#### For K=[1,3,5,7,11,21] estimate accuracy of your KNN and plot the dependency between K and accuracy."
   ]
  },
  {
   "cell_type": "code",
   "execution_count": 22,
   "metadata": {
    "scrolled": true
   },
   "outputs": [
    {
     "data": {
      "text/plain": [
       "[0.917, 0.925, 0.912, 0.902, 0.895, 0.881]"
      ]
     },
     "execution_count": 22,
     "metadata": {},
     "output_type": "execute_result"
    }
   ],
   "source": [
    "accuracy"
   ]
  },
  {
   "cell_type": "code",
   "execution_count": 23,
   "metadata": {
    "scrolled": true
   },
   "outputs": [
    {
     "data": {
      "text/plain": [
       "[<matplotlib.lines.Line2D at 0x7ff680fa1160>]"
      ]
     },
     "execution_count": 23,
     "metadata": {},
     "output_type": "execute_result"
    },
    {
     "data": {
      "image/png": "[encoded data removed]",
      "text/plain": [
       "<matplotlib.figure.Figure at 0x7ff6810c4588>"
      ]
     },
     "metadata": {},
     "output_type": "display_data"
    }
   ],
   "source": [
    "plt.xlabel('K')\n",
    "plt.ylabel('Accuracy Percent')\n",
    "plt.plot(K, accuracy)"
   ]
  },
  {
   "cell_type": "markdown",
   "metadata": {},
   "source": [
    "#### What value of K is optimal? Explain"
   ]
  },
  {
   "cell_type": "markdown",
   "metadata": {},
   "source": [
    "K = 3 is optimal for this situation. It is large enough so a level of noise in the data is minimized. Also it is small enough so samples of the other class are not inlcuded"
   ]
  }
 ],
 "metadata": {
  "kernelspec": {
   "display_name": "Python 3",
   "language": "python",
   "name": "python3"
  },
  "language_info": {
   "codemirror_mode": {
    "name": "ipython",
    "version": 3
   },
   "file_extension": ".py",
   "mimetype": "text/x-python",
   "name": "python",
   "nbconvert_exporter": "python",
   "pygments_lexer": "ipython3",
   "version": "3.6.2"
  }
 },
 "nbformat": 4,
 "nbformat_minor": 2
}
